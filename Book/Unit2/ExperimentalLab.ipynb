{
  "cells": [
    {
      "cell_type": "markdown",
      "metadata": {
        "id": "vifUw9KmfZOl"
      },
      "source": [
        "# Lab 4.5 - Practice With Problems\n",
        "\n",
        "Hi everyone. This is practice with an experimental lab format. For 'saving progress' in this lab, you will want to make sure you have an account setup with google if you are using [colabs](https://colab.research.google.com/notebooks/welcome.ipynb#scrollTo=9wi5kfGdhK0R) or if you have [downloaded](https://github.com/CSU-CS150B/handouts/tree/main/Book/Unit2) this file, using VS Code (or other local application), you will be fine on your own computer. For those using colabs, make sure you save it to your google drive. \n",
        "\n",
        "This lab will take you step by step as you work through the jupyter notebook. "
      ]
    },
    {
      "cell_type": "markdown",
      "metadata": {
        "id": "fXz28cFTfZOo"
      },
      "source": [
        "## Task 1: Working With Loops and Strings\n",
        "\n",
        "For this task, your goal is to write a loop that will reprint the characters of any string. For example:\n",
        "\n",
        "```\n",
        "Hello\n",
        "```\n",
        "\n",
        "will print to the screen\n",
        "\n",
        "```\n",
        "H\n",
        "e\n",
        "l\n",
        "l\n",
        "o\n",
        "```\n",
        "\n",
        "A few things to help you out, remember you can access a specific location in a string using the \"indexing\" operators `[]` as such, if I wanted to access the first element it would be the following (go ahead and run the code).\n"
      ]
    },
    {
      "cell_type": "code",
      "execution_count": null,
      "metadata": {
        "id": "oZZCQJbpfZOp",
        "outputId": "4a71326d-6988-4d1a-b58f-7949f2b62456"
      },
      "outputs": [
        {
          "name": "stdout",
          "output_type": "stream",
          "text": [
            "h\n",
            "h\n",
            "e\n"
          ]
        }
      ],
      "source": [
        "print(\"hello\"[0])  # prints h to the screen\n",
        "\n",
        "## or better done\n",
        "greeting = \"hello\"\n",
        "print(greeting[0])  # prints h to the screen\n",
        "print(greeting[1])  # prints e to the screen\n"
      ]
    },
    {
      "cell_type": "markdown",
      "metadata": {
        "id": "C0ypfm7tfZOq"
      },
      "source": [
        "\n",
        "Another useful reminder is that `len(string)` gives you the total number of characters, so if I wanted to loop the total length of the string, the loop I would setup would be:\n",
        "\n",
        "```python\n",
        "loc = 0\n",
        "while loc < len(greeting):\n",
        "    # do something\n",
        "    # make sure to increment loc!\n",
        "```\n",
        "\n",
        "Now go ahead and build the loop below! "
      ]
    },
    {
      "cell_type": "code",
      "execution_count": 2,
      "metadata": {
        "id": "_sl6PbLffZOr",
        "outputId": "edcf3e6a-680d-4d10-938b-6c4094d509d5",
        "colab": {
          "base_uri": "https://localhost:8080/"
        }
      },
      "outputs": [
        {
          "output_type": "stream",
          "name": "stdout",
          "text": [
            "a\n",
            "l\n",
            "o\n",
            "h\n",
            "a\n"
          ]
        }
      ],
      "source": [
        "compare = 0\n",
        "greeting = \"aloha\" #you should change this for testing\n",
        "\n",
        "while compare < len(greeting):\n",
        "  print(greeting[compare])\n",
        "  compare = compare + 1\n",
        "  \n",
        "## put your loop here, and test it using the arrow to the side\n"
      ]
    },
    {
      "cell_type": "markdown",
      "metadata": {
        "id": "Lh5miQ1TfZOr"
      },
      "source": [
        "## Task 2 - Building a reverse string\n",
        "\n",
        "For this task, you will take the same idea of a loop and \"flip it\" instead of going from 0 to len(greeting), you will want to set your loc to the *last* index of the string, and count *down* until you are at the first index (0). \n",
        "\n",
        "> To think about: if len(string) gives you the entire length, is that the last index or do you need to modify it to get the last index from that?\n",
        "\n",
        "The other thing to remember is how to concatinate strings. In this case, we are building a string, so in our loop we will want to use a `+=` to the string variable. Run the next code to see an example of that."
      ]
    },
    {
      "cell_type": "code",
      "execution_count": null,
      "metadata": {
        "id": "wKk8RTPWfZOs",
        "outputId": "e23dd833-3e3a-433e-8799-f66fe59ba2e1"
      },
      "outputs": [
        {
          "name": "stdout",
          "output_type": "stream",
          "text": [
            "aaaaaa\n"
          ]
        }
      ],
      "source": [
        "example_ans = \"\"\n",
        "example_greeting = \"aloha\"\n",
        "exloc = 5\n",
        "while exloc >= 0:\n",
        "    example_ans += example_greeting[0]\n",
        "    exloc -= 1\n",
        "print(example_ans)\n"
      ]
    },
    {
      "cell_type": "code",
      "execution_count": 12,
      "metadata": {
        "id": "fsmJ5NKAfZOs",
        "outputId": "f215c9cc-5b28-4be7-e8b3-51db890d6485",
        "colab": {
          "base_uri": "https://localhost:8080/",
          "height": 235
        }
      },
      "outputs": [
        {
          "output_type": "error",
          "ename": "TypeError",
          "evalue": "ignored",
          "traceback": [
            "\u001b[0;31m---------------------------------------------------------------------------\u001b[0m",
            "\u001b[0;31mTypeError\u001b[0m                                 Traceback (most recent call last)",
            "\u001b[0;32m<ipython-input-12-03eac2cdcbec>\u001b[0m in \u001b[0;36m<module>\u001b[0;34m()\u001b[0m\n\u001b[1;32m      3\u001b[0m \u001b[0mgreeting\u001b[0m \u001b[0;34m=\u001b[0m \u001b[0;34m\"aloha\"\u001b[0m\u001b[0;34m\u001b[0m\u001b[0;34m\u001b[0m\u001b[0m\n\u001b[1;32m      4\u001b[0m \u001b[0;32mwhile\u001b[0m \u001b[0mcompare\u001b[0m \u001b[0;34m>=\u001b[0m \u001b[0;36m0\u001b[0m\u001b[0;34m:\u001b[0m\u001b[0;34m\u001b[0m\u001b[0;34m\u001b[0m\u001b[0m\n\u001b[0;32m----> 5\u001b[0;31m   \u001b[0mcompare\u001b[0m \u001b[0;34m+=\u001b[0m \u001b[0mgreeting\u001b[0m\u001b[0;34m[\u001b[0m\u001b[0;36m0\u001b[0m\u001b[0;34m]\u001b[0m\u001b[0;34m\u001b[0m\u001b[0;34m\u001b[0m\u001b[0m\n\u001b[0m\u001b[1;32m      6\u001b[0m   \u001b[0mprint\u001b[0m\u001b[0;34m(\u001b[0m\u001b[0mgreeting\u001b[0m\u001b[0;34m[\u001b[0m\u001b[0mcompare\u001b[0m\u001b[0;34m]\u001b[0m\u001b[0;34m)\u001b[0m\u001b[0;34m\u001b[0m\u001b[0;34m\u001b[0m\u001b[0m\n\u001b[1;32m      7\u001b[0m   \u001b[0mcompare\u001b[0m \u001b[0;34m=\u001b[0m \u001b[0mcompare\u001b[0m \u001b[0;34m-\u001b[0m \u001b[0;36m1\u001b[0m \u001b[0;31m## add your loop here - you want answer to eventually be ahola or the reverse of whatever word greeting is set to!\u001b[0m\u001b[0;34m\u001b[0m\u001b[0;34m\u001b[0m\u001b[0m\n",
            "\u001b[0;31mTypeError\u001b[0m: unsupported operand type(s) for +=: 'int' and 'str'"
          ]
        }
      ],
      "source": [
        "# now your turn! \n",
        "compare = 5\n",
        "greeting = \"aloha\"\n",
        "while compare >= 0:\n",
        "  compare += greeting[0]\n",
        "  print(greeting[compare])\n",
        "  compare = compare - 1 ## add your loop here - you want answer to eventually be ahola or the reverse of whatever word greeting is set to!\n",
        "\n"
      ]
    },
    {
      "cell_type": "markdown",
      "metadata": {
        "id": "RH-RuKbpfZOt"
      },
      "source": [
        "## Task 3 - Creating a function\n",
        "\n",
        "Great, we have figured out how to reverse a string, so now lets build a function so we can continue to do it. As a reminder, a function has the following format\n",
        "\n",
        "```python\n",
        "def name(parameters):\n",
        "    #code - all indented as part of the function block\n",
        "    #return answer\n",
        "```\n",
        "\n",
        "You may want to review functions at this point, and go back to the [functions interactive slides](https://colab.research.google.com/github/CSU-CS150B/handouts/blob/main/Book/Unit1/IntroToFunctions.ipynb) and work on `def nameFormat(first, last):` activity (most the way down the page) as a reminder. \n",
        "\n",
        "When you are comfortable, take the code you wrote above, and make it the primary block of the function `reverse_str`. Remember, you want to return the answer not print it here!"
      ]
    },
    {
      "cell_type": "code",
      "execution_count": null,
      "metadata": {
        "id": "pc0UJFe6fZOu",
        "outputId": "b2ead95f-148d-497c-cfbc-b2b9b3deab9a"
      },
      "outputs": [
        {
          "name": "stdout",
          "output_type": "stream",
          "text": [
            "TESTING aloha\n",
            "None\n",
            "TESTING hello\n",
            "None\n"
          ]
        }
      ],
      "source": [
        "# we put in the signature for you, the rest you need to work on\n",
        "def reverse_str(msg):\n",
        "    print(\"TESTING\", msg) #remove this line\n",
        "\n",
        "print(reverse_str(\"aloha\"))\n",
        "print(reverse_str(\"hello\"))\n"
      ]
    },
    {
      "cell_type": "markdown",
      "metadata": {
        "id": "r4Fge1aCfZOu"
      },
      "source": [
        "## Turning In\n",
        "\n",
        "If you go to file -> download -> .py, that will allow you to download a python script file built off of this notebook (or export command in vscode). After you download this file, click on the lab link in canvas, and you will be able to upload the lab into zybooks. This lab will also have a quick survey after it, as this is the first time we are trying a jupyter notebook lab for this course, and I am wanting to collect feedback. That is also why this lab only had you build up to one function, instead of building a full program. \n",
        "\n",
        "### Future Labs in 163/164\n",
        "While CS 150B will build you to working on a full program by the end of the semester (we will get there!), I wanted to take a moment about CS 163/4 labs. We alternate theory based labs on Tuesdays and full applications / working programs on Thursdays. If you currently have an A or B in CS 150B, you would do great in the following course which gives you a much stronger programming background! Come talk to me if you are interested in learning more! \n",
        "\n",
        "\n",
        "### Extra practice\n",
        "For the remainder of the lab session, I encourage you to try the extra practice labs in zybooks! Your TAs will guide you to them. Remember, programming takes practice, so it is best you keep at it. "
      ]
    }
  ],
  "metadata": {
    "interpreter": {
      "hash": "2ba540a0224cde77ca4ac53e72c437473ecb7ee9f5c9f57a02383d20eb80f2df"
    },
    "kernelspec": {
      "display_name": "Python 3.9.10 64-bit (windows store)",
      "language": "python",
      "name": "python3"
    },
    "language_info": {
      "codemirror_mode": {
        "name": "ipython",
        "version": 3
      },
      "file_extension": ".py",
      "mimetype": "text/x-python",
      "name": "python",
      "nbconvert_exporter": "python",
      "pygments_lexer": "ipython3",
      "version": "3.9.10"
    },
    "orig_nbformat": 4,
    "colab": {
      "name": "ExperimentalLab.ipynb",
      "provenance": []
    }
  },
  "nbformat": 4,
  "nbformat_minor": 0
}